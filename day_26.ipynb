{
 "cells": [
  {
   "cell_type": "markdown",
   "id": "c3f89ee0-d76c-428f-b3e6-b4ffe8becd7e",
   "metadata": {},
   "source": [
    "Write a Python program to calculate the cosine similarity between two strings using the Scikit-learn library. You can use the 'TfidfVectorizer' class to transform the text into vectors."
   ]
  },
  {
   "cell_type": "code",
   "execution_count": 2,
   "id": "3f8dc70b-0df7-48c1-844d-13ef8e082bb1",
   "metadata": {},
   "outputs": [],
   "source": [
    "from sklearn.feature_extraction.text import TfidfVectorizer\n",
    "from sklearn.metrics.pairwise import cosine_similarity"
   ]
  },
  {
   "cell_type": "code",
   "execution_count": 3,
   "id": "36415499-867c-4c5f-9da8-0613e7ac7349",
   "metadata": {},
   "outputs": [
    {
     "name": "stdout",
     "output_type": "stream",
     "text": [
      "Cosine Similarity: 0.6030\n"
     ]
    }
   ],
   "source": [
    "\n",
    "def calculate_cosine_similarity(text1, text2):\n",
    "    \"\"\"Calculates cosine similarity between two text strings.\"\"\"\n",
    "    vectorizer = TfidfVectorizer()\n",
    "    tfidf_matrix = vectorizer.fit_transform([text1, text2])\n",
    "    similarity = cosine_similarity(tfidf_matrix[0], tfidf_matrix[1])\n",
    "    return similarity[0][0]\n",
    "\n",
    "def main():\n",
    "    text1 = \"Machine learning is amazing.\"\n",
    "    text2 = \"Machine learning is incredible.\"\n",
    "    \n",
    "    similarity_score = calculate_cosine_similarity(text1, text2)\n",
    "    print(f\"Cosine Similarity: {similarity_score:.4f}\")\n",
    "\n",
    "if __name__ == \"__main__\":\n",
    "    main()\n"
   ]
  }
 ],
 "metadata": {
  "kernelspec": {
   "display_name": "Python 3 (ipykernel)",
   "language": "python",
   "name": "python3"
  },
  "language_info": {
   "codemirror_mode": {
    "name": "ipython",
    "version": 3
   },
   "file_extension": ".py",
   "mimetype": "text/x-python",
   "name": "python",
   "nbconvert_exporter": "python",
   "pygments_lexer": "ipython3",
   "version": "3.12.4"
  }
 },
 "nbformat": 4,
 "nbformat_minor": 5
}
