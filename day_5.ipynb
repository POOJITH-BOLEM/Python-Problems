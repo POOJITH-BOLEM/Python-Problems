{
 "cells": [
  {
   "cell_type": "markdown",
   "metadata": {},
   "source": [
    "Write a Python program to calculate the frequency of each word in a given text. Print the\n",
    "words and their corresponding counts"
   ]
  },
  {
   "cell_type": "code",
   "execution_count": 5,
   "metadata": {},
   "outputs": [
    {
     "name": "stdout",
     "output_type": "stream",
     "text": [
      "Dont trouble the trouble if you trouble the trouble the trouble troubles you im not the trouble im the truth \n",
      "\n",
      "dont: 1\n",
      "trouble: 6\n",
      "the: 5\n",
      "if: 1\n",
      "you: 2\n",
      "troubles: 1\n",
      "im: 2\n",
      "not: 1\n",
      "truth: 1\n"
     ]
    }
   ],
   "source": [
    "from collections import Counter\n",
    "\n",
    "def calculate_word_frequency(text):\n",
    "    # Convert text to lowercase to ensure case-insensitivity\n",
    "    text = text.lower()\n",
    "    \n",
    "    # Remove punctuation and split the text into words\n",
    "    words = text.split()\n",
    "    \n",
    "    # Use Counter to count the frequency of each word\n",
    "    word_counts = Counter(words)\n",
    "    \n",
    "    # Print the words and their frequencies\n",
    "    for word, count in word_counts.items():\n",
    "        print(f\"{word}: {count}\")\n",
    "\n",
    "# Input text\n",
    "text = input(\"Enter the text: \")\n",
    "print(text,\"\\n\")\n",
    "\n",
    "# Calculate and display word frequencies\n",
    "calculate_word_frequency(text)\n"
   ]
  }
 ],
 "metadata": {
  "kernelspec": {
   "display_name": "Python 3",
   "language": "python",
   "name": "python3"
  },
  "language_info": {
   "codemirror_mode": {
    "name": "ipython",
    "version": 3
   },
   "file_extension": ".py",
   "mimetype": "text/x-python",
   "name": "python",
   "nbconvert_exporter": "python",
   "pygments_lexer": "ipython3",
   "version": "3.10.11"
  }
 },
 "nbformat": 4,
 "nbformat_minor": 2
}
