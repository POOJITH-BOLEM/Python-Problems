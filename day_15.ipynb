{
 "cells": [
  {
   "cell_type": "markdown",
   "id": "8d951108-5d16-4205-96fe-2508f2a7a646",
   "metadata": {},
   "source": [
    "Write a Python function using regular expressions to extract all email addresses from a given string. Test it with the input: 'Contact us at support@example.com and sales@example.org.'\r\n"
   ]
  },
  {
   "cell_type": "code",
   "execution_count": 4,
   "id": "1e440768-2756-4aa2-b8f8-6d2327b16b8b",
   "metadata": {},
   "outputs": [
    {
     "name": "stderr",
     "output_type": "stream",
     "text": [
      "[nltk_data] Downloading package punkt to\n",
      "[nltk_data]     C:\\Users\\lokes\\AppData\\Roaming\\nltk_data...\n",
      "[nltk_data]   Package punkt is already up-to-date!\n"
     ]
    },
    {
     "name": "stdout",
     "output_type": "stream",
     "text": [
      "Sentences:\n",
      "['Natural Language Processing (NLP) is a fascinating field of Artificial Intelligence.', 'It enables computers to understand and process human language.', 'Applications of NLP include chatbots, translation, and sentiment analysis.']\n",
      "\n",
      "Words:\n",
      "['Natural', 'Language', 'Processing', '(', 'NLP', ')', 'is', 'a', 'fascinating', 'field', 'of', 'Artificial', 'Intelligence', '.', 'It', 'enables', 'computers', 'to', 'understand', 'and', 'process', 'human', 'language', '.', 'Applications', 'of', 'NLP', 'include', 'chatbots', ',', 'translation', ',', 'and', 'sentiment', 'analysis', '.']\n",
      "\n",
      "Cleaned Text:\n",
      "hello world welcome to nlp 101\n",
      "\n",
      "Extracted Emails:\n",
      "['support@example.com', 'sales@example.org']\n",
      "\n",
      "Webpage Title:\n",
      "Example Domain\n"
     ]
    }
   ],
   "source": [
    "import nltk\n",
    "from nltk.tokenize import word_tokenize, sent_tokenize\n",
    "import re\n",
    "import requests\n",
    "from bs4 import BeautifulSoup\n",
    "\n",
    "# Download necessary datasets (only required once)\n",
    "nltk.download('punkt')\n",
    "\n",
    "def clean_text(text):\n",
    "    # Remove special characters and convert to lowercase\n",
    "    cleaned_text = re.sub(r'[^a-zA-Z0-9\\s]', '', text).lower()\n",
    "    return cleaned_text\n",
    "\n",
    "def extract_emails(text):\n",
    "    # Regular expression pattern for extracting email addresses\n",
    "    email_pattern = r'\\b[A-Za-z0-9._%+-]+@[A-Za-z0-9.-]+\\.[A-Z|a-z]{2,}\\b'\n",
    "    return re.findall(email_pattern, text)\n",
    "\n",
    "def fetch_webpage_title(url):\n",
    "    # Fetch the webpage content\n",
    "    response = requests.get(url)\n",
    "    soup = BeautifulSoup(response.text, 'html.parser')\n",
    "    return soup.title.string if soup.title else 'No title found'\n",
    "\n",
    "# Sample paragraph\n",
    "paragraph = \"Natural Language Processing (NLP) is a fascinating field of Artificial Intelligence. It enables computers to understand and process human language. Applications of NLP include chatbots, translation, and sentiment analysis.\"\n",
    "\n",
    "# Tokenizing into sentences\n",
    "sentences = sent_tokenize(paragraph)\n",
    "print(\"Sentences:\")\n",
    "print(sentences)\n",
    "\n",
    "# Tokenizing into words\n",
    "words = word_tokenize(paragraph)\n",
    "print(\"\\nWords:\")\n",
    "print(words)\n",
    "\n",
    "# Test the clean_text function\n",
    "test_text = 'Hello, World! Welcome to NLP 101.'\n",
    "cleaned_test_text = clean_text(test_text)\n",
    "print(\"\\nCleaned Text:\")\n",
    "print(cleaned_test_text)\n",
    "\n",
    "# Test the extract_emails function\n",
    "test_email_text = 'Contact us at support@example.com and sales@example.org.'\n",
    "extracted_emails = extract_emails(test_email_text)\n",
    "print(\"\\nExtracted Emails:\")\n",
    "print(extracted_emails)\n",
    "\n",
    "# Test the fetch_webpage_title function\n",
    "test_url = 'https://example.com'\n",
    "webpage_title = fetch_webpage_title(test_url)\n",
    "print(\"\\nWebpage Title:\")\n",
    "print(webpage_title)\n"
   ]
  },
  {
   "cell_type": "code",
   "execution_count": null,
   "id": "d66fcaf5-8de0-4184-ace8-709a660e13a9",
   "metadata": {},
   "outputs": [],
   "source": []
  }
 ],
 "metadata": {
  "kernelspec": {
   "display_name": "Python 3 (ipykernel)",
   "language": "python",
   "name": "python3"
  },
  "language_info": {
   "codemirror_mode": {
    "name": "ipython",
    "version": 3
   },
   "file_extension": ".py",
   "mimetype": "text/x-python",
   "name": "python",
   "nbconvert_exporter": "python",
   "pygments_lexer": "ipython3",
   "version": "3.12.4"
  }
 },
 "nbformat": 4,
 "nbformat_minor": 5
}
