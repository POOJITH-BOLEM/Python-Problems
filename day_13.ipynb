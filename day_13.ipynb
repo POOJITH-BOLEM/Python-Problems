{
 "cells": [
  {
   "cell_type": "markdown",
   "id": "8f68a945-d500-42c5-9abc-862bfce326c8",
   "metadata": {},
   "source": [
    "Write a Python function to clean a given text by removing special characters and converting it to lowercase. Test it with the input: 'Hello, World! Welcome to NLP 101.'\r\n"
   ]
  },
  {
   "cell_type": "code",
   "execution_count": 1,
   "id": "ed498968-00b2-4043-b21a-857fb79e3f99",
   "metadata": {},
   "outputs": [
    {
     "name": "stdout",
     "output_type": "stream",
     "text": [
      "Sentences:\n",
      "['Natural Language Processing (NLP) is a fascinating field of Artificial Intelligence.', 'It enables computers to understand and process human language.', 'Applications of NLP include chatbots, translation, and sentiment analysis.']\n",
      "\n",
      "Words:\n",
      "['Natural', 'Language', 'Processing', '(', 'NLP', ')', 'is', 'a', 'fascinating', 'field', 'of', 'Artificial', 'Intelligence', '.', 'It', 'enables', 'computers', 'to', 'understand', 'and', 'process', 'human', 'language', '.', 'Applications', 'of', 'NLP', 'include', 'chatbots', ',', 'translation', ',', 'and', 'sentiment', 'analysis', '.']\n",
      "\n",
      "Cleaned Text:\n",
      "hello world welcome to nlp 101\n"
     ]
    },
    {
     "name": "stderr",
     "output_type": "stream",
     "text": [
      "[nltk_data] Downloading package punkt to\n",
      "[nltk_data]     C:\\Users\\lokes\\AppData\\Roaming\\nltk_data...\n",
      "[nltk_data]   Package punkt is already up-to-date!\n"
     ]
    }
   ],
   "source": [
    "import nltk\n",
    "from nltk.tokenize import word_tokenize, sent_tokenize\n",
    "import re\n",
    "\n",
    "# Download necessary datasets (only required once)\n",
    "nltk.download('punkt')\n",
    "\n",
    "def clean_text(text):\n",
    "    # Remove special characters and convert to lowercase\n",
    "    cleaned_text = re.sub(r'[^a-zA-Z0-9\\s]', '', text).lower()\n",
    "    return cleaned_text\n",
    "\n",
    "# Sample paragraph\n",
    "paragraph = \"Natural Language Processing (NLP) is a fascinating field of Artificial Intelligence. It enables computers to understand and process human language. Applications of NLP include chatbots, translation, and sentiment analysis.\"\n",
    "\n",
    "# Tokenizing into sentences\n",
    "sentences = sent_tokenize(paragraph)\n",
    "print(\"Sentences:\")\n",
    "print(sentences)\n",
    "\n",
    "# Tokenizing into words\n",
    "words = word_tokenize(paragraph)\n",
    "print(\"\\nWords:\")\n",
    "print(words)\n",
    "\n",
    "# Test the clean_text function\n",
    "test_text = 'Hello, World! Welcome to NLP 101.'\n",
    "cleaned_test_text = clean_text(test_text)\n",
    "print(\"\\nCleaned Text:\")\n",
    "print(cleaned_test_text)\n"
   ]
  },
  {
   "cell_type": "code",
   "execution_count": null,
   "id": "25004abf-e0cf-4fe1-9b68-e0239dccb4f1",
   "metadata": {},
   "outputs": [],
   "source": []
  }
 ],
 "metadata": {
  "kernelspec": {
   "display_name": "Python 3 (ipykernel)",
   "language": "python",
   "name": "python3"
  },
  "language_info": {
   "codemirror_mode": {
    "name": "ipython",
    "version": 3
   },
   "file_extension": ".py",
   "mimetype": "text/x-python",
   "name": "python",
   "nbconvert_exporter": "python",
   "pygments_lexer": "ipython3",
   "version": "3.12.4"
  }
 },
 "nbformat": 4,
 "nbformat_minor": 5
}
