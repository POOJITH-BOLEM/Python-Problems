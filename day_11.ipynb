{
 "cells": [
  {
   "cell_type": "markdown",
   "id": "fafd0af3-f5b8-464c-86ec-9d088b54b983",
   "metadata": {},
   "source": [
    "Write a Python script that:\r\n",
    "1. Tokenizes a sample paragraph into words and sentences.\r\n",
    "\r\n"
   ]
  },
  {
   "cell_type": "code",
   "execution_count": 1,
   "id": "801f3ad9-bdc2-437d-8d8b-63a6b86b3daa",
   "metadata": {},
   "outputs": [
    {
     "name": "stdout",
     "output_type": "stream",
     "text": [
      "Sentences:\n",
      "['Natural Language Processing (NLP) is a fascinating field of Artificial Intelligence.', 'It enables computers to understand and process human language.', 'Applications of NLP include chatbots, translation, and sentiment analysis.']\n",
      "\n",
      "Words:\n",
      "['Natural', 'Language', 'Processing', '(', 'NLP', ')', 'is', 'a', 'fascinating', 'field', 'of', 'Artificial', 'Intelligence', '.', 'It', 'enables', 'computers', 'to', 'understand', 'and', 'process', 'human', 'language', '.', 'Applications', 'of', 'NLP', 'include', 'chatbots', ',', 'translation', ',', 'and', 'sentiment', 'analysis', '.']\n"
     ]
    },
    {
     "name": "stderr",
     "output_type": "stream",
     "text": [
      "[nltk_data] Downloading package punkt to\n",
      "[nltk_data]     C:\\Users\\lokes\\AppData\\Roaming\\nltk_data...\n",
      "[nltk_data]   Package punkt is already up-to-date!\n"
     ]
    }
   ],
   "source": [
    "import nltk\n",
    "from nltk.tokenize import word_tokenize, sent_tokenize\n",
    "\n",
    "# Download necessary datasets (only required once)\n",
    "nltk.download('punkt')\n",
    "\n",
    "# Sample paragraph\n",
    "paragraph = \"Natural Language Processing (NLP) is a fascinating field of Artificial Intelligence. It enables computers to understand and process human language. Applications of NLP include chatbots, translation, and sentiment analysis.\"\n",
    "\n",
    "# Tokenizing into sentences\n",
    "sentences = sent_tokenize(paragraph)\n",
    "print(\"Sentences:\")\n",
    "print(sentences)\n",
    "\n",
    "# Tokenizing into words\n",
    "words = word_tokenize(paragraph)\n",
    "print(\"\\nWords:\")\n",
    "print(words)"
   ]
  }
 ],
 "metadata": {
  "kernelspec": {
   "display_name": "Python 3 (ipykernel)",
   "language": "python",
   "name": "python3"
  },
  "language_info": {
   "codemirror_mode": {
    "name": "ipython",
    "version": 3
   },
   "file_extension": ".py",
   "mimetype": "text/x-python",
   "name": "python",
   "nbconvert_exporter": "python",
   "pygments_lexer": "ipython3",
   "version": "3.12.4"
  }
 },
 "nbformat": 4,
 "nbformat_minor": 5
}
