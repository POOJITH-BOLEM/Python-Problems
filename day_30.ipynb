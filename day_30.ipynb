{
 "cells": [
  {
   "cell_type": "markdown",
   "id": "7cb92ba5-f854-4e9a-8572-6421643d31fb",
   "metadata": {},
   "source": [
    "Write a Python program to perform sentiment analysis on a given text using the TextBlob library. Display whether the sentiment is positive, negative, or neutral.\r\n"
   ]
  },
  {
   "cell_type": "code",
   "execution_count": 4,
   "id": "7613367f-1848-4fb1-b59b-da6564faf065",
   "metadata": {},
   "outputs": [
    {
     "name": "stdout",
     "output_type": "stream",
     "text": [
      "Sentiment: Positive (Score: 0.75)\n"
     ]
    }
   ],
   "source": [
    "from textblob import TextBlob\n",
    "\n",
    "def analyze_sentiment(text):\n",
    "    \"\"\"Analyzes sentiment of the given text using TextBlob.\"\"\"\n",
    "    blob = TextBlob(text)\n",
    "    sentiment_score = blob.sentiment.polarity\n",
    "    \n",
    "    if sentiment_score > 0:\n",
    "        sentiment = \"Positive\"\n",
    "    elif sentiment_score < 0:\n",
    "        sentiment = \"Negative\"\n",
    "    else:\n",
    "        sentiment = \"Neutral\"\n",
    "    \n",
    "    print(f\"Sentiment: {sentiment} (Score: {sentiment_score:.2f})\")\n",
    "\n",
    "def main():\n",
    "    text = \"I love this beautiful day!\"\n",
    "    analyze_sentiment(text)\n",
    "\n",
    "if __name__ == \"__main__\":\n",
    "    main()\n"
   ]
  }
 ],
 "metadata": {
  "kernelspec": {
   "display_name": "Python 3 (ipykernel)",
   "language": "python",
   "name": "python3"
  },
  "language_info": {
   "codemirror_mode": {
    "name": "ipython",
    "version": 3
   },
   "file_extension": ".py",
   "mimetype": "text/x-python",
   "name": "python",
   "nbconvert_exporter": "python",
   "pygments_lexer": "ipython3",
   "version": "3.12.4"
  }
 },
 "nbformat": 4,
 "nbformat_minor": 5
}
