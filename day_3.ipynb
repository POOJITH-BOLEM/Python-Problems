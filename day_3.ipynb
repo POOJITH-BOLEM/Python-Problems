{
 "cells": [
  {
   "cell_type": "markdown",
   "metadata": {},
   "source": [
    "Write a Python program that takes a student's marks in three subjects as input.\n",
    "\n"
   ]
  },
  {
   "cell_type": "markdown",
   "metadata": {},
   "source": [
    "If the average is greater than or equal to 90, print \"Grade: A\".\n"
   ]
  },
  {
   "cell_type": "markdown",
   "metadata": {},
   "source": [
    "If the average is between 80 and 89, print \"Grade: B\"."
   ]
  },
  {
   "cell_type": "markdown",
   "metadata": {},
   "source": [
    "If the average is between 70 and 79, print \"Grade: C\".\n"
   ]
  },
  {
   "cell_type": "code",
   "execution_count": 1,
   "metadata": {},
   "outputs": [
    {
     "name": "stdout",
     "output_type": "stream",
     "text": [
      "The grade of student is: A\n"
     ]
    }
   ],
   "source": [
    "def grade(s1,s2,s3):\n",
    "    average = s1+s2+s3\n",
    "    Grade = \"fail\"\n",
    "    if average >= 90:\n",
    "        Grade = \"A\"\n",
    "    elif 80 <= average >= 89:\n",
    "        Grade = \"B\"\n",
    "    elif 70 <= average >= 79:\n",
    "        Grade = \"C\"\n",
    "    return Grade\n",
    "\n",
    "sub1 = int(input('Enter marks of Subject A: '))\n",
    "sub2 = int(input('Enter marks of Subject B: '))\n",
    "sub3 = int(input('Enter marks of Subject C: '))\n",
    "\n",
    "result = grade(sub1,sub2,sub3)\n",
    "print(f\"The grade of student is: {result}\")"
   ]
  }
 ],
 "metadata": {
  "kernelspec": {
   "display_name": "Python 3",
   "language": "python",
   "name": "python3"
  },
  "language_info": {
   "codemirror_mode": {
    "name": "ipython",
    "version": 3
   },
   "file_extension": ".py",
   "mimetype": "text/x-python",
   "name": "python",
   "nbconvert_exporter": "python",
   "pygments_lexer": "ipython3",
   "version": "3.10.11"
  }
 },
 "nbformat": 4,
 "nbformat_minor": 2
}
