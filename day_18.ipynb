{
 "cells": [
  {
   "cell_type": "markdown",
   "id": "f3ff5071-036f-4b3f-9466-df73e7891ecd",
   "metadata": {},
   "source": [
    "Write a Python script to fetch and print the title of a webpage using the 'requests' and 'BeautifulSoup' libraries. Test it with the URL: 'https://example.com'.\n"
   ]
  },
  {
   "cell_type": "code",
   "execution_count": 4,
   "id": "aba81cb3-212b-4cf4-9ca3-b08cbdcf81ce",
   "metadata": {},
   "outputs": [
    {
     "name": "stdout",
     "output_type": "stream",
     "text": [
      "Page Title: Example Domain\n"
     ]
    }
   ],
   "source": [
    "import requests\n",
    "from bs4 import BeautifulSoup\n",
    "\n",
    "def get_page_title(url):\n",
    "    try:\n",
    "        response = requests.get(url)\n",
    "        response.raise_for_status()  # Raise an error for bad responses\n",
    "        \n",
    "        soup = BeautifulSoup(response.text, 'html.parser')\n",
    "        title = soup.title.string if soup.title else 'No title found'\n",
    "        \n",
    "        return title\n",
    "    except requests.exceptions.RequestException as e:\n",
    "        return f\"Error fetching page: {e}\"\n",
    "\n",
    "if __name__ == \"__main__\":\n",
    "    url = \"https://example.com\"\n",
    "    print(\"Page Title:\", get_page_title(url))\n"
   ]
  },
  {
   "cell_type": "code",
   "execution_count": null,
   "id": "e7218e14-951d-44f8-a92a-65362bf214df",
   "metadata": {},
   "outputs": [],
   "source": []
  }
 ],
 "metadata": {
  "kernelspec": {
   "display_name": "Python 3 (ipykernel)",
   "language": "python",
   "name": "python3"
  },
  "language_info": {
   "codemirror_mode": {
    "name": "ipython",
    "version": 3
   },
   "file_extension": ".py",
   "mimetype": "text/x-python",
   "name": "python",
   "nbconvert_exporter": "python",
   "pygments_lexer": "ipython3",
   "version": "3.12.4"
  }
 },
 "nbformat": 4,
 "nbformat_minor": 5
}
