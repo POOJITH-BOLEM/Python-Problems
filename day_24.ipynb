{
 "cells": [
  {
   "cell_type": "markdown",
   "id": "eadde6f0-9f82-4f25-bef8-9c46c3cdcab4",
   "metadata": {},
   "source": [
    "Write a Python program to load a text file, tokenize the text using NLTK, and display the 10 most common words. Use the NLTK library for tokenization.\n"
   ]
  },
  {
   "cell_type": "code",
   "execution_count": 4,
   "id": "2b209dab-32c3-4de8-9756-26361907c316",
   "metadata": {},
   "outputs": [
    {
     "name": "stderr",
     "output_type": "stream",
     "text": [
      "[nltk_data] Downloading package punkt to\n",
      "[nltk_data]     C:\\Users\\lokes\\AppData\\Roaming\\nltk_data...\n",
      "[nltk_data]   Package punkt is already up-to-date!\n"
     ]
    },
    {
     "data": {
      "text/plain": [
       "True"
      ]
     },
     "execution_count": 4,
     "metadata": {},
     "output_type": "execute_result"
    }
   ],
   "source": [
    "import nltk\n",
    "from nltk.tokenize import word_tokenize\n",
    "from nltk.probability import FreqDist\n",
    "# Download necessary NLTK resources\n",
    "nltk.download('punkt')"
   ]
  },
  {
   "cell_type": "code",
   "execution_count": 5,
   "id": "c4b0ebd7-2eec-4c47-b1f5-63eed60cf891",
   "metadata": {},
   "outputs": [
    {
     "name": "stdout",
     "output_type": "stream",
     "text": [
      "10 Most Common Words:\n",
      "this: 3\n",
      "words: 3\n",
      "the: 3\n",
      "is: 2\n",
      "text: 2\n",
      "file: 2\n",
      "some: 2\n",
      "a: 1\n",
      "sample: 1\n",
      "it: 1\n"
     ]
    }
   ],
   "source": [
    "def load_text_file(file_path):\n",
    "    \"\"\"Reads a text file and returns its content.\"\"\"\n",
    "    with open(file_path, 'r', encoding='utf-8') as file:\n",
    "        return file.read()\n",
    "\n",
    "def get_most_common_words(text, n=10):\n",
    "    \"\"\"Tokenizes the text and returns the n most common words.\"\"\"\n",
    "    tokens = word_tokenize(text)\n",
    "    words = [word.lower() for word in tokens if word.isalnum()]\n",
    "    freq_dist = FreqDist(words)\n",
    "    return freq_dist.most_common(n)\n",
    "\n",
    "def main():\n",
    "    file_path = 'sample.txt'  # Replace with your file path\n",
    "    text = load_text_file(file_path)\n",
    "    common_words = get_most_common_words(text)\n",
    "    \n",
    "    print(\"10 Most Common Words:\")\n",
    "    for word, count in common_words:\n",
    "        print(f\"{word}: {count}\")\n",
    "\n",
    "if __name__ == \"__main__\":\n",
    "    main()\n"
   ]
  }
 ],
 "metadata": {
  "kernelspec": {
   "display_name": "Python 3 (ipykernel)",
   "language": "python",
   "name": "python3"
  },
  "language_info": {
   "codemirror_mode": {
    "name": "ipython",
    "version": 3
   },
   "file_extension": ".py",
   "mimetype": "text/x-python",
   "name": "python",
   "nbconvert_exporter": "python",
   "pygments_lexer": "ipython3",
   "version": "3.12.4"
  }
 },
 "nbformat": 4,
 "nbformat_minor": 5
}
